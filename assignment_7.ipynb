{
 "cells": [
  {
   "cell_type": "markdown",
   "id": "92323e8d-3eef-4a9b-8a92-d9cd95e48e4d",
   "metadata": {},
   "source": [
    "## Implementation of Algorithms for Primality Testing\n",
    "### a. Division Algorithm"
   ]
  },
  {
   "cell_type": "code",
   "execution_count": 1,
   "id": "e0ac70fb-9dba-4872-965e-5fc2dc6bff04",
   "metadata": {},
   "outputs": [
    {
     "name": "stdout",
     "output_type": "stream",
     "text": [
      "Division test:\n",
      "2: True\n",
      "17: True\n",
      "25: False\n",
      "97: True\n",
      "100: False\n"
     ]
    }
   ],
   "source": [
    "import math\n",
    "\n",
    "def is_prime_division(n: int) -> bool:\n",
    "    \"\"\"Check primality by trial division.\"\"\"\n",
    "    if n <= 1:\n",
    "        return False\n",
    "    if n <= 3:\n",
    "        return True\n",
    "    if n % 2 == 0 or n % 3 == 0:\n",
    "        return False\n",
    "    for i in range(5, int(math.sqrt(n)) + 1, 6):\n",
    "        if n % i == 0 or n % (i + 2) == 0:\n",
    "            return False\n",
    "    return True\n",
    "\n",
    "# Example\n",
    "print(\"Division test:\")\n",
    "for x in [2, 17, 25, 97, 100]:\n",
    "    print(f\"{x}: {is_prime_division(x)}\")"
   ]
  },
  {
   "cell_type": "markdown",
   "id": "57fb2b26-a2ee-4f59-af12-74af4f788b69",
   "metadata": {},
   "source": [
    "### b. Fermat's Theorem"
   ]
  },
  {
   "cell_type": "code",
   "execution_count": 2,
   "id": "8fea960a-9ffd-46b2-935b-62992d427897",
   "metadata": {},
   "outputs": [
    {
     "name": "stdout",
     "output_type": "stream",
     "text": [
      "\n",
      "Fermat test:\n",
      "17: True\n",
      "25: False\n",
      "97: True\n",
      "561: False\n",
      "1009: True\n"
     ]
    }
   ],
   "source": [
    "import random\n",
    "\n",
    "def is_probable_prime_fermat(n: int, k: int = 5) -> bool:\n",
    "    if n <= 1:\n",
    "        return False\n",
    "    if n <= 3:\n",
    "        return True\n",
    "    for _ in range(k):\n",
    "        a = random.randint(2, n - 2)\n",
    "        if pow(a, n - 1, n) != 1:\n",
    "            return False\n",
    "    return True\n",
    "\n",
    "# Example\n",
    "print(\"\\nFermat test:\")\n",
    "for x in [17, 25, 97, 561, 1009]:\n",
    "    print(f\"{x}: {is_probable_prime_fermat(x)}\")\n"
   ]
  },
  {
   "cell_type": "markdown",
   "id": "fe1a583e-aea2-421c-9ff3-4fc58571d7cf",
   "metadata": {},
   "source": [
    "### Miler-Rabin Algorithm"
   ]
  },
  {
   "cell_type": "code",
   "execution_count": 3,
   "id": "4c1aa50f-02c6-4470-a801-6a366b428a84",
   "metadata": {},
   "outputs": [
    {
     "name": "stdout",
     "output_type": "stream",
     "text": [
      "\n",
      "Miller-Rabin test:\n",
      "17: True\n",
      "25: False\n",
      "97: True\n",
      "561: False\n",
      "1009: True\n"
     ]
    }
   ],
   "source": [
    "def is_probable_prime_miller_rabin(n: int, k: int = 5) -> bool:\n",
    "    if n <= 1:\n",
    "        return False\n",
    "    if n <= 3:\n",
    "        return True\n",
    "    if n % 2 == 0:\n",
    "        return False\n",
    "\n",
    "    # Write n-1 as 2^r * d\n",
    "    r, d = 0, n - 1\n",
    "    while d % 2 == 0:\n",
    "        d //= 2\n",
    "        r += 1\n",
    "\n",
    "    for _ in range(k):\n",
    "        a = random.randint(2, n - 2)\n",
    "        x = pow(a, d, n)\n",
    "        if x == 1 or x == n - 1:\n",
    "            continue\n",
    "        for _ in range(r - 1):\n",
    "            x = pow(x, 2, n)\n",
    "            if x == n - 1:\n",
    "                break\n",
    "        else:\n",
    "            return False\n",
    "    return True\n",
    "\n",
    "# Example\n",
    "print(\"\\nMiller-Rabin test:\")\n",
    "for x in [17, 25, 97, 561, 1009]:\n",
    "    print(f\"{x}: {is_probable_prime_miller_rabin(x)}\")\n"
   ]
  }
 ],
 "metadata": {
  "kernelspec": {
   "display_name": "Python 3 (ipykernel)",
   "language": "python",
   "name": "python3"
  },
  "language_info": {
   "codemirror_mode": {
    "name": "ipython",
    "version": 3
   },
   "file_extension": ".py",
   "mimetype": "text/x-python",
   "name": "python",
   "nbconvert_exporter": "python",
   "pygments_lexer": "ipython3",
   "version": "3.13.5"
  }
 },
 "nbformat": 4,
 "nbformat_minor": 5
}
