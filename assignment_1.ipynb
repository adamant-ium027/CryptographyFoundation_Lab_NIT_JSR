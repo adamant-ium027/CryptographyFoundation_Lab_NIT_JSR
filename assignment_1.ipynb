{
 "cells": [
  {
   "cell_type": "code",
   "execution_count": 1,
   "id": "17624598-414e-4c07-9b9d-c3c89cc9534a",
   "metadata": {},
   "outputs": [],
   "source": [
    "import random as rn"
   ]
  },
  {
   "cell_type": "markdown",
   "id": "c7ab91bb-e52a-4564-b2dc-76c59d40590e",
   "metadata": {},
   "source": [
    "### 1. Using lists create two matrix i.e. if 3x3 matrix is there then 3 lists having 3 elements in a single list should be there (nested list), let's name them matA and matB then perform:\n",
    "##### Matrix addition\n",
    "\n",
    "##### Matrix substraction\n",
    "\n",
    "##### Matrix Multiplication (in place i.e. matA[i] x matB[i])"
   ]
  },
  {
   "cell_type": "code",
   "execution_count": 2,
   "id": "9fbdc332-ce56-4542-b345-72152be43c3b",
   "metadata": {},
   "outputs": [
    {
     "name": "stdin",
     "output_type": "stream",
     "text": [
      "Enter order of the matrix:  3\n"
     ]
    },
    {
     "name": "stdout",
     "output_type": "stream",
     "text": [
      "[[-3, -1, 1], [-4, 1, 1], [-4, 2, 5]]\n",
      "[[0, 0, 2], [-3, 1, 2], [-5, 1, 3]]\n",
      "\n",
      "Matrix Addition\n",
      "[[-3, -1, 3], [-7, 2, 3], [-9, 3, 8]]\n",
      "\n",
      "Matrix Substraction\n",
      "[[-3, -1, -1], [-1, 0, -1], [1, 1, 2]]\n",
      "\n",
      "Matrix Multiplication\n",
      "[[-2, 0, -5], [-8, 2, -3], [-31, 7, 11]]\n"
     ]
    }
   ],
   "source": [
    "n = int(input('Enter order of the matrix: '))\n",
    "\n",
    "matA = list(list(rn.randint(-5, 5) for j in range(n)) for i in range(n))\n",
    "matB = list(list(rn.randint(-5, 5) for j in range(n)) for i in range(n))\n",
    "\n",
    "print(matA)\n",
    "print(matB)\n",
    "\n",
    "# Matrix Addition\n",
    "print('\\nMatrix Addition')\n",
    "mat_add = []\n",
    "for i in range(n):\n",
    "    temp = []\n",
    "    for j in range(n):\n",
    "        temp.append(matA[i][j] + matB[i][j])\n",
    "    mat_add.append(temp)\n",
    "print(mat_add)\n",
    "\n",
    "# Matrix Substraction\n",
    "print('\\nMatrix Substraction')\n",
    "mat_sub = []\n",
    "for i in range(n):\n",
    "    temp = []\n",
    "    for j in range(n):\n",
    "        temp.append(matA[i][j] - matB[i][j])\n",
    "    mat_sub.append(temp)\n",
    "print(mat_sub)\n",
    "\n",
    "# Matrix Mutliplication\n",
    "print('\\nMatrix Multiplication')\n",
    "mat_mult = [[0 for j in range(n)] for i in range(n)]\n",
    "for i in range(n):\n",
    "    for j in range(n):\n",
    "        for k in range(n):\n",
    "            mat_mult[i][j] += matA[i][k] * matB[k][j]\n",
    "print(mat_mult)"
   ]
  },
  {
   "cell_type": "markdown",
   "id": "4d5b1594-df75-4b8e-87f6-47bbe8492afe",
   "metadata": {},
   "source": [
    "### 2. Create nested tuples and display the tuple whose sum of elements is second largest throughout all of them."
   ]
  },
  {
   "cell_type": "code",
   "execution_count": 3,
   "id": "a0dfae38-fdcd-4c9e-b7c3-c0bdc2558616",
   "metadata": {},
   "outputs": [
    {
     "name": "stdin",
     "output_type": "stream",
     "text": [
      "Enter number of nested tuples to be created:  3\n"
     ]
    },
    {
     "name": "stdout",
     "output_type": "stream",
     "text": [
      "((4, -2, -6, -5, 0), (-8, -8, -8, -4, -4), (-5, 1, -5, 8, -3))\n",
      "The second largest sub-tuple index is 0 whose sum is -9.\n"
     ]
    }
   ],
   "source": [
    "n = int(input('Enter number of nested tuples to be created: '))\n",
    "\n",
    "nested_tuple = tuple(tuple(rn.randint(-10, 10) for j in range(5)) for i in range(n))\n",
    "print(nested_tuple)\n",
    "\n",
    "max_sum = sec_max_sum = sum(nested_tuple[0])\n",
    "max_ind = sec_max_ind = 0\n",
    "\n",
    "# for item in nested_tuple:\n",
    "#     print(sum(item))\n",
    "\n",
    "for i in range(1, n):\n",
    "    curr_sum = sum(nested_tuple[i])\n",
    "    if(curr_sum > max_sum):\n",
    "        sec_max_sum, sec_max_ind = max_sum, max_ind\n",
    "        max_sum, max_ind = curr_sum, i\n",
    "    elif(curr_sum < max_sum and curr_sum > sec_max_sum):\n",
    "        sec_max_sum, sec_max_ind = curr_sum, i\n",
    "\n",
    "\n",
    "print('The second largest sub-tuple index is {} whose sum is {}.'.format(sec_max_ind, sec_max_sum))"
   ]
  },
  {
   "cell_type": "markdown",
   "id": "7b3ebf3c-ad3e-4235-a766-a50d880bf3c3",
   "metadata": {},
   "source": [
    "### 3. Create a nested dictionary representing students as the keys and a dictionary consisting of their marks as the values, add some data to it and then calculate the average in every subject i.e. average of all students in that subjects let's say maths."
   ]
  },
  {
   "cell_type": "code",
   "execution_count": 4,
   "id": "9fba468c-444c-43b2-b0a1-29fcc5bdcd55",
   "metadata": {},
   "outputs": [
    {
     "name": "stdout",
     "output_type": "stream",
     "text": [
      "Aryan: \n",
      "\tPhysics: 54\n",
      "\tChemistry: 30\n",
      "\tMaths: 82\n",
      "\tEnglish: 39\n",
      "\tPhysical Education: 96\n",
      "\n",
      "Om: \n",
      "\tPhysics: 44\n",
      "\tChemistry: 68\n",
      "\tMaths: 49\n",
      "\tEnglish: 65\n",
      "\tPhysical Education: 62\n",
      "\n",
      "Kabir: \n",
      "\tPhysics: 36\n",
      "\tChemistry: 92\n",
      "\tMaths: 41\n",
      "\tEnglish: 30\n",
      "\tPhysical Education: 51\n",
      "\n",
      "Ishan: \n",
      "\tPhysics: 51\n",
      "\tChemistry: 62\n",
      "\tMaths: 33\n",
      "\tEnglish: 93\n",
      "\tPhysical Education: 72\n",
      "\n",
      "Sam: \n",
      "\tPhysics: 77\n",
      "\tChemistry: 64\n",
      "\tMaths: 92\n",
      "\tEnglish: 90\n",
      "\tPhysical Education: 37\n",
      "\n",
      "Average of each subjects are:\n",
      "Physics: 52.4\n",
      "Chemistry: 63.2\n",
      "Maths: 59.4\n",
      "English: 63.4\n",
      "Physical Education: 63.6\n"
     ]
    }
   ],
   "source": [
    "students = ['Aryan', 'Om', 'Kabir', 'Ishan', 'Sam']\n",
    "subjects = ['Physics', 'Chemistry', 'Maths', 'English', 'Physical Education']\n",
    "\n",
    "d = {student: {subject: rn.randint(30, 100) for subject in subjects} for student in students}\n",
    "\n",
    "for item in d.keys():\n",
    "    print('{}: '.format(item))\n",
    "    for key, value in d[item].items():\n",
    "        print('\\t{}: {}'.format(key, value))\n",
    "    print()\n",
    "\n",
    "subjects_avg = {subject: 0 for subject in subjects}\n",
    "for item in d.keys():\n",
    "    subjects_avg['Physics'] += d[item]['Physics']\n",
    "    subjects_avg['Chemistry'] += d[item]['Chemistry']\n",
    "    subjects_avg['Maths'] += d[item]['Maths']\n",
    "    subjects_avg['English'] += d[item]['English']\n",
    "    subjects_avg['Physical Education'] += d[item]['Physical Education']\n",
    "\n",
    "print('Average of each subjects are:')\n",
    "for key, value in subjects_avg.items():\n",
    "    print('{}: {}'.format(key, value/len(students)))"
   ]
  },
  {
   "cell_type": "markdown",
   "id": "47f5d2b4-b577-478e-ae23-c5d09ec31ef1",
   "metadata": {},
   "source": [
    "### 4. Perform ever operation of the dictionary.\n",
    "##### Create → {} or dict()\n",
    "\n",
    "##### Add/Update → d[key] = value\n",
    "\n",
    "##### Access → d[key], d.get()\n",
    "\n",
    "##### Remove → pop(), popitem(), del, clear()\n",
    "\n",
    "##### Keys/Values → keys(), values(), items()\n",
    "\n",
    "##### Iterate → for key, value in d.items()\n",
    "\n",
    "##### Check → in keyword\n",
    "\n",
    "##### Copy/Merge → copy(), update()\n",
    "\n",
    "##### Comprehension → {k:v for ...}"
   ]
  },
  {
   "cell_type": "code",
   "execution_count": 5,
   "id": "8c40d847-b771-4a5e-afd8-386686327660",
   "metadata": {},
   "outputs": [
    {
     "name": "stdout",
     "output_type": "stream",
     "text": [
      "Create:\n",
      "{'Name': 'Pawan', 'Age': 24, 'City': 'Patna'}\n",
      "<class 'dict'>\n",
      "\n",
      "Add/Update:\n",
      "{'Name': 'Pawan Pratap', 'Age': 24, 'City': 'Patna', 'College': 'NIT Jamshedpur'}\n",
      "\n",
      "Access:\n",
      "Pawan Pratap\n",
      "24\n",
      "Not Found\n",
      "\n",
      "Remove:\n",
      "{'Name': 'Pawan Pratap', 'Age': 24, 'City': 'Patna'}\n",
      "{'Name': 'Pawan Pratap', 'Age': 24}\n",
      "{'Name': 'Pawan Pratap'}\n",
      "{}\n",
      "\n",
      "Keys/Values:\n",
      "key: Name\n",
      "value: Pawan Pratap\n",
      "item: dict_items([('Name', 'Pawan Pratap'), ('Age', 24), ('City', 'Patna'), ('College', 'NIT Jamshedpur')])\n",
      "\n",
      "Iterate:\n",
      "Name: Pawan Pratap\n",
      "Age: 24\n",
      "City: Patna\n",
      "College: NIT Jamshedpur\n",
      "\n",
      "Check:\n",
      "The specified key is present in the dictionary \"d\".\n",
      "\n",
      "\n",
      "Merging:\n",
      "{'a': 1, 'b': 2, 'c': 3, 'd': 4}\n",
      "{'c': 3, 'd': 4}\n",
      "\n",
      "Dictionary Comprehension:\n",
      "{0: 0, 1: 1, 2: 4, 3: 9, 4: 16, 5: 25, 6: 36, 7: 49, 8: 64, 9: 81, 10: 100}\n"
     ]
    }
   ],
   "source": [
    "# Create\n",
    "d = {'Name': 'Pawan', 'Age': 24, 'City': 'Patna'}\n",
    "print('Create:')\n",
    "print(d)\n",
    "print(type(d))\n",
    "\n",
    "# Add/Update\n",
    "print('\\nAdd/Update:')\n",
    "d['Name'] = 'Pawan Pratap' # updates the value of the key(Name)\n",
    "d['College'] = 'NIT Jamshedpur' # adds a new key value pair\n",
    "print(d)\n",
    "\n",
    "# Access\n",
    "print('\\nAccess:')\n",
    "print(d['Name'])\n",
    "print(d.get('Age')) # if key is not found the it gives error\n",
    "print(d.get('Education', 'Not Found')) # for safe access. if key is not found still it does not gives any error\n",
    "\n",
    "# Remove\n",
    "print('\\nRemove:')\n",
    "d_copy = d.copy()\n",
    "d_copy.pop('College') # removes the key, value pair of the specified key\n",
    "print(d_copy)\n",
    "d_copy.popitem() # removes the key, value pair of the last key\n",
    "print(d_copy)\n",
    "del d_copy['Age'] # deletes the specific key, value pair\n",
    "print(d_copy)\n",
    "d_copy.clear() # deletes all the key, value pairs\n",
    "print(d_copy)\n",
    "\n",
    "# keys/Values\n",
    "print('\\nKeys/Values:')\n",
    "key = list(d.keys())\n",
    "value = list(d.values())\n",
    "key_value = d.items()\n",
    "print('key: {}'.format(*key))\n",
    "print('value: {}'.format(*value))\n",
    "print('item: {}'.format(key_value))\n",
    "\n",
    "# Iterate\n",
    "print('\\nIterate:')\n",
    "for key, value in d.items():\n",
    "    print('{}: {}'.format(key, value))\n",
    "\n",
    "# Check\n",
    "print('\\nCheck:')\n",
    "if 'Name' in d:\n",
    "    print('The specified key is present in the dictionary \"d\".\\n')\n",
    "else:\n",
    "    print('No such key present in the dictionary \"d\".\\n')\n",
    "\n",
    "# Merging\n",
    "d1 = {\"a\": 1, \"b\": 2}\n",
    "d2 = {\"c\": 3, \"d\": 4}\n",
    "\n",
    "d1.update(d2) # nothing happens to dict 'd2'. Only the content of 'd1' is changed\n",
    "print('\\nMerging:')\n",
    "print(d1)\n",
    "print(d2)\n",
    "\n",
    "# Dictionary Comprehension\n",
    "d_comp = {i: i**2 for i in range(11)}\n",
    "print('\\nDictionary Comprehension:')\n",
    "print(d_comp)"
   ]
  },
  {
   "cell_type": "markdown",
   "id": "e4df1e7e-0a8b-477d-b3d8-b771d82d3021",
   "metadata": {},
   "source": [
    "### 5. Take a sentence and try to find the most occuring words."
   ]
  },
  {
   "cell_type": "code",
   "execution_count": 6,
   "id": "a655842f-a9e0-4159-816d-1fac072d435e",
   "metadata": {},
   "outputs": [
    {
     "name": "stdout",
     "output_type": "stream",
     "text": [
      "The quick brown fox jumps over the lazy dog near the river\n",
      "\n",
      "The highest frequency word is \"the\" which is repeated \"2\" times.\n"
     ]
    }
   ],
   "source": [
    "sen= 'The quick brown fox jumps over the lazy dog near the river'\n",
    "\n",
    "sen_list = sen.strip().split(' ')\n",
    "sen_dict = {word: sen_list.count(word) for word in set(sen_list)}\n",
    "\n",
    "print(sen)\n",
    "\n",
    "max_word, max_word_freq = None, 0\n",
    "for key, value in sen_dict.items():\n",
    "    if(value > max_word_freq):\n",
    "        max_word, max_word_freq = key, value\n",
    "\n",
    "print('\\nThe highest frequency word is \"{}\" which is repeated \"{}\" times.'.format(max_word, max_word_freq))"
   ]
  }
 ],
 "metadata": {
  "kernelspec": {
   "display_name": "Python 3 (ipykernel)",
   "language": "python",
   "name": "python3"
  },
  "language_info": {
   "codemirror_mode": {
    "name": "ipython",
    "version": 3
   },
   "file_extension": ".py",
   "mimetype": "text/x-python",
   "name": "python",
   "nbconvert_exporter": "python",
   "pygments_lexer": "ipython3",
   "version": "3.13.5"
  }
 },
 "nbformat": 4,
 "nbformat_minor": 5
}
