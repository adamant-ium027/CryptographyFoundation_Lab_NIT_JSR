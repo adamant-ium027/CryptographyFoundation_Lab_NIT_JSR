{
 "cells": [
  {
   "cell_type": "code",
   "execution_count": 2,
   "id": "14fcd4c7-5476-4a4e-b432-7b3bb66d5699",
   "metadata": {},
   "outputs": [
    {
     "name": "stdout",
     "output_type": "stream",
     "text": [
      "\n",
      "---- Polynomial Addition Modulo ----\n"
     ]
    },
    {
     "name": "stdin",
     "output_type": "stream",
     "text": [
      "Enter first polynomial coefficients (space separated, highest degree first):  1 0 1 1\n",
      "Enter second polynomial coefficients (space separated, highest degree first):  1 1 0 1\n"
     ]
    },
    {
     "name": "stdout",
     "output_type": "stream",
     "text": [
      "[1, 0, 1, 1] + [1, 1, 0, 1] = [0, 1, 1, 0]\n",
      "\n",
      "---- Polynomial Multiplication Modulo (Brute Force) ----\n"
     ]
    },
    {
     "name": "stdin",
     "output_type": "stream",
     "text": [
      "Enter first polynomial coefficients:  1 0 1 1\n",
      "Enter second polynomial coefficients:  1 1 0 1\n",
      "Enter modulus polynomial coefficients:  1 0 0 1 1\n"
     ]
    },
    {
     "name": "stdout",
     "output_type": "stream",
     "text": [
      "([1, 0, 1, 1]) * ([1, 1, 0, 1]) mod [1, 0, 0, 1, 1] = [0, 1, 1, 0]\n",
      "\n",
      "---- Polynomial Multiplication Modulo (Efficient) ----\n"
     ]
    },
    {
     "name": "stdin",
     "output_type": "stream",
     "text": [
      "Enter first polynomial as integer (binary format, e.g., 0b1011):  1011\n",
      "Enter second polynomial as integer (binary format):  1101\n",
      "Enter modulus polynomial as integer (binary format):  10011\n"
     ]
    },
    {
     "name": "stdout",
     "output_type": "stream",
     "text": [
      "Multiplication modulo result (efficient): 0b110\n"
     ]
    }
   ],
   "source": [
    "# Polynomial Arithmetic under GF(2^p)\n",
    "# All polynomials are represented as lists of 0s and 1s (coefficients)\n",
    "# For example, x^3 + x + 1 -> [1, 0, 1, 1]\n",
    "\n",
    "# Addition Modulo\n",
    "def poly_add_mod():\n",
    "    A = list(map(int, input(\"Enter first polynomial coefficients (space separated, highest degree first): \").split()))\n",
    "    B = list(map(int, input(\"Enter second polynomial coefficients (space separated, highest degree first): \").split()))\n",
    "    \n",
    "    n = max(len(A), len(B))\n",
    "    A = [0]*(n - len(A)) + A\n",
    "    B = [0]*(n - len(B)) + B\n",
    "    \n",
    "    C = [a ^ b for a, b in zip(A, B)]\n",
    "    return A, B, C\n",
    "\n",
    "\n",
    "# Multiplication Modulo (Brute Force)\n",
    "def poly_mult_mod_brute():\n",
    "    A = list(map(int, input(\"Enter first polynomial coefficients: \").split()))\n",
    "    B = list(map(int, input(\"Enter second polynomial coefficients: \").split()))\n",
    "    P = list(map(int, input(\"Enter modulus polynomial coefficients: \").split()))\n",
    "    \n",
    "    degA = len(A) - 1\n",
    "    degB = len(B) - 1\n",
    "    res = [0]*(degA + degB + 1)\n",
    "    \n",
    "    # Multiply\n",
    "    for i in range(len(A)):\n",
    "        for j in range(len(B)):\n",
    "            res[i+j] ^= (A[i] & B[j])\n",
    "    \n",
    "    # Reduce modulo P\n",
    "    while len(res) >= len(P):\n",
    "        if res[0] == 1:\n",
    "            for i in range(len(P)):\n",
    "                res[i] ^= P[i]\n",
    "        res = res[1:]\n",
    "    \n",
    "    return A, B, P, res\n",
    "\n",
    "\n",
    "# Multiplication Modulo (Efficient)\n",
    "def poly_mult_mod_efficient():\n",
    "    # Input polynomials as integers\n",
    "    a = int(input(\"Enter first polynomial as integer (binary format, e.g., 0b1011): \"), 2)\n",
    "    b = int(input(\"Enter second polynomial as integer (binary format): \"), 2)\n",
    "    p = int(input(\"Enter modulus polynomial as integer (binary format): \"), 2)\n",
    "    \n",
    "    result = 0\n",
    "    deg_p = p.bit_length() - 1\n",
    "    \n",
    "    while b:\n",
    "        if b & 1:\n",
    "            result ^= a\n",
    "        a <<= 1\n",
    "        # Reduce while degree(a) >= degree(p)\n",
    "        while a.bit_length() > deg_p:\n",
    "            a ^= p << (a.bit_length() - deg_p - 1)\n",
    "        b >>= 1\n",
    "    \n",
    "    return bin(result)\n",
    "\n",
    "print(\"\\n---- Polynomial Addition Modulo ----\")\n",
    "A, B, C = poly_add_mod()\n",
    "print(f\"{A} + {B} = {C}\\n\")\n",
    "\n",
    "print(\"---- Polynomial Multiplication Modulo (Brute Force) ----\")\n",
    "A, B, P, res_brute = poly_mult_mod_brute()\n",
    "print(f\"({A}) * ({B}) mod {P} = {res_brute}\\n\")\n",
    "\n",
    "print(\"---- Polynomial Multiplication Modulo (Efficient) ----\")\n",
    "res_efficient = poly_mult_mod_efficient()\n",
    "print(f\"Multiplication modulo result (efficient): {res_efficient}\")\n"
   ]
  },
  {
   "cell_type": "code",
   "execution_count": null,
   "id": "8217ea5a-bd75-452c-bc7a-0a013c3362fc",
   "metadata": {},
   "outputs": [],
   "source": []
  }
 ],
 "metadata": {
  "kernelspec": {
   "display_name": "Python 3 (ipykernel)",
   "language": "python",
   "name": "python3"
  },
  "language_info": {
   "codemirror_mode": {
    "name": "ipython",
    "version": 3
   },
   "file_extension": ".py",
   "mimetype": "text/x-python",
   "name": "python",
   "nbconvert_exporter": "python",
   "pygments_lexer": "ipython3",
   "version": "3.13.5"
  }
 },
 "nbformat": 4,
 "nbformat_minor": 5
}
