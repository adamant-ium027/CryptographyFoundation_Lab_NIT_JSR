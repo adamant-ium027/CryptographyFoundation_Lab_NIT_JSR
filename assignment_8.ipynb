{
 "cells": [
  {
   "cell_type": "markdown",
   "id": "d66351ed-2e31-43a2-b5eb-fbb92bdeca3b",
   "metadata": {},
   "source": [
    "### Diffie-Hellman Key Exchange"
   ]
  },
  {
   "cell_type": "code",
   "execution_count": 1,
   "id": "d01b75de-4f9f-4cc6-90fe-8d224769c8d1",
   "metadata": {},
   "outputs": [
    {
     "name": "stdout",
     "output_type": "stream",
     "text": [
      "Shared Secret (integer): 2852378311\n",
      "Derived AES Key (SHA-256): f172da2b5b0d5bee6237d577a6d5a045a1a35f0ee48a6f8265cddbc7260f50ae\n",
      "\n",
      "Original Message: Hello, World!\n",
      "Encrypted Message (hex): be8e5b1a0769c4470e34182be490b0e821cad7cd76d8b10752cd83dd4480f423\n",
      "Decrypted Message: Hello, World!\n"
     ]
    }
   ],
   "source": [
    "import random\n",
    "import hashlib\n",
    "from Crypto.Cipher import AES\n",
    "from Crypto.Util.Padding import pad, unpad\n",
    "from Crypto.Random import get_random_bytes\n",
    "\n",
    "\n",
    "# DIFFIE-HELLMAN KEY EXCHANGE\n",
    "def diffie_hellman_key_exchange(p, g):\n",
    "    # Private keys\n",
    "    a = random.randint(1000, 9999)  # Alice\n",
    "    b = random.randint(1000, 9999)  # Bob\n",
    "\n",
    "    # Public keys\n",
    "    A = pow(g, a, p)\n",
    "    B = pow(g, b, p)\n",
    "\n",
    "    # Shared secret\n",
    "    shared_secret_A = pow(B, a, p)\n",
    "    shared_secret_B = pow(A, b, p)\n",
    "\n",
    "    assert shared_secret_A == shared_secret_B  # sanity check\n",
    "\n",
    "    return shared_secret_A\n",
    "\n",
    "\n",
    "# AES ENCRYPTION / DECRYPTION\n",
    "def generate_aes_key(shared_secret):\n",
    "    # Convert integer to bytes and hash it to get a 256-bit key\n",
    "    secret_bytes = str(shared_secret).encode()\n",
    "    key = hashlib.sha256(secret_bytes).digest()\n",
    "    return key\n",
    "\n",
    "\n",
    "def aes_encrypt(message, key):\n",
    "    iv = get_random_bytes(16)  # 16 bytes IV for AES-CBC\n",
    "    cipher = AES.new(key, AES.MODE_CBC, iv)\n",
    "    ciphertext = cipher.encrypt(pad(message.encode(), AES.block_size))\n",
    "    return iv + ciphertext  # prepend IV for decryption\n",
    "\n",
    "\n",
    "def aes_decrypt(ciphertext, key):\n",
    "    iv = ciphertext[:16]\n",
    "    ct = ciphertext[16:]\n",
    "    cipher = AES.new(key, AES.MODE_CBC, iv)\n",
    "    plaintext = unpad(cipher.decrypt(ct), AES.block_size)\n",
    "    return plaintext.decode()\n",
    "\n",
    "\n",
    "# MAIN FUNCTION\n",
    "if __name__ == \"__main__\":\n",
    "    # Publicly known parameters (large prime and primitive root)\n",
    "    p = 0xFFFFFFFB  # large 32-bit prime\n",
    "    g = 5\n",
    "\n",
    "    # Step 1: Performing Diffie–Hellman exchange\n",
    "    shared_secret = diffie_hellman_key_exchange(p, g)\n",
    "    print(\"Shared Secret (integer):\", shared_secret)\n",
    "\n",
    "    # Step 2: Deriving AES key\n",
    "    aes_key = generate_aes_key(shared_secret)\n",
    "    print(\"Derived AES Key (SHA-256):\", aes_key.hex())\n",
    "\n",
    "    # Step 3: Encrypting and decrypting\n",
    "    message = \"Hello, World!\"\n",
    "    print(\"\\nOriginal Message:\", message)\n",
    "\n",
    "    encrypted = aes_encrypt(message, aes_key)\n",
    "    print(\"Encrypted Message (hex):\", encrypted.hex())\n",
    "\n",
    "    decrypted = aes_decrypt(encrypted, aes_key)\n",
    "    print(\"Decrypted Message:\", decrypted)\n"
   ]
  },
  {
   "cell_type": "code",
   "execution_count": null,
   "id": "4af7cd8e-2241-4fcd-b24e-e4aa4737d85a",
   "metadata": {},
   "outputs": [],
   "source": []
  }
 ],
 "metadata": {
  "kernelspec": {
   "display_name": "Python 3 (ipykernel)",
   "language": "python",
   "name": "python3"
  },
  "language_info": {
   "codemirror_mode": {
    "name": "ipython",
    "version": 3
   },
   "file_extension": ".py",
   "mimetype": "text/x-python",
   "name": "python",
   "nbconvert_exporter": "python",
   "pygments_lexer": "ipython3",
   "version": "3.13.5"
  }
 },
 "nbformat": 4,
 "nbformat_minor": 5
}
