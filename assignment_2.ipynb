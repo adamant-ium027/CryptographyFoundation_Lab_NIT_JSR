{
 "cells": [
  {
   "cell_type": "code",
   "execution_count": 1,
   "id": "14fcd4c7-5476-4a4e-b432-7b3bb66d5699",
   "metadata": {},
   "outputs": [],
   "source": [
    "import numpy as np\n",
    "import sympy as sp\n",
    "import string\n",
    "\n",
    "# ---------------- Helper Functions ----------------\n",
    "\n",
    "# Euclidean GCD\n",
    "def euclidean_algo(a, b):\n",
    "    while b != 0:\n",
    "        a, b = b, a % b\n",
    "    return a\n",
    "\n",
    "# Extended Euclidean GCD\n",
    "def extended_gcd(a, b):\n",
    "    if b == 0:\n",
    "        return a, 1, 0\n",
    "    else:\n",
    "        g, x1, y1 = extended_gcd(b, a % b)\n",
    "        x, y = y1, x1 - (a // b) * y1\n",
    "        return g, x, y\n",
    "\n",
    "# Multiplicative inverse modulo\n",
    "def multiplicative_inverse(a, m):\n",
    "    g, x, _ = extended_gcd(a, m)\n",
    "    if g != 1:\n",
    "        return None\n",
    "    else:\n",
    "        return x % m\n",
    "\n",
    "# ---------------- Additive Cipher ----------------\n",
    "def additive_encrypt():\n",
    "    plaintext = input(\"Enter plaintext: \").lower().replace(\" \", \"\")\n",
    "    key = int(input(\"Enter key (integer): \"))\n",
    "    ciphertext = ''.join([chr((ord(c)-97 + key) % 26 + 97) for c in plaintext])\n",
    "    return plaintext, ciphertext, key\n",
    "\n",
    "def additive_decrypt(key):\n",
    "    ciphertext = input(\"Enter ciphertext: \").lower()\n",
    "    plaintext = ''.join([chr((ord(c)-97 - key) % 26 + 97) for c in ciphertext])\n",
    "    return ciphertext, plaintext\n",
    "\n",
    "# ---------------- Multiplicative Cipher ----------------\n",
    "def multiplicative_encrypt():\n",
    "    plaintext = input(\"Enter plaintext: \").lower().replace(\" \", \"\")\n",
    "    key = int(input(\"Enter key (integer coprime with 26): \"))\n",
    "    if euclidean_algo(key, 26) != 1:\n",
    "        print(\"Key must be coprime with 26\")\n",
    "        return\n",
    "    ciphertext = ''.join([chr(((ord(c)-97) * key) % 26 + 97) for c in plaintext])\n",
    "    return plaintext, ciphertext, key\n",
    "\n",
    "def multiplicative_decrypt(key):\n",
    "    ciphertext = input(\"Enter ciphertext: \").lower()\n",
    "    key_inv = multiplicative_inverse(key, 26)\n",
    "    plaintext = ''.join([chr(((ord(c)-97) * key_inv) % 26 + 97) for c in ciphertext])\n",
    "    return ciphertext, plaintext\n",
    "\n",
    "# ---------------- Affine Cipher ----------------\n",
    "def affine_encrypt():\n",
    "    plaintext = input(\"Enter plaintext: \").lower().replace(\" \", \"\")\n",
    "    a = int(input(\"Enter multiplicative key a (coprime with 26): \"))\n",
    "    b = int(input(\"Enter additive key b: \"))\n",
    "    if euclidean_algo(a, 26) != 1:\n",
    "        print(\"Key a must be coprime with 26\")\n",
    "        return\n",
    "    ciphertext = ''.join([chr(((a*(ord(c)-97) + b) % 26) + 97) for c in plaintext])\n",
    "    return plaintext, ciphertext, a, b\n",
    "\n",
    "def affine_decrypt(a, b):\n",
    "    ciphertext = input(\"Enter ciphertext: \").lower()\n",
    "    a_inv = multiplicative_inverse(a, 26)\n",
    "    plaintext = ''.join([chr(((a_inv*(ord(c)-97 - b)) % 26) + 97) for c in ciphertext])\n",
    "    return ciphertext, plaintext\n",
    "\n",
    "# ---------------- Playfair Cipher ----------------\n",
    "def generate_playfair_matrix(key):\n",
    "    key = ''.join(key.lower().split()).replace('j', 'i')\n",
    "    matrix_str = ''\n",
    "    for char in key:\n",
    "        if char not in matrix_str and char in string.ascii_lowercase:\n",
    "            matrix_str += char\n",
    "    for char in string.ascii_lowercase:\n",
    "        if char not in matrix_str and char != 'j':\n",
    "            matrix_str += char\n",
    "    matrix = [list(matrix_str[i:i+5]) for i in range(0, 25, 5)]\n",
    "    return matrix\n",
    "\n",
    "def find_position(matrix, char):\n",
    "    if char == 'j': char = 'i'\n",
    "    for i in range(5):\n",
    "        for j in range(5):\n",
    "            if matrix[i][j] == char:\n",
    "                return i, j\n",
    "    return None\n",
    "\n",
    "def process_text(text):\n",
    "    text = ''.join(text.lower().split()).replace('j', 'i')\n",
    "    result = ''\n",
    "    i = 0\n",
    "    while i < len(text):\n",
    "        a = text[i]\n",
    "        b = ''\n",
    "        if i+1 < len(text):\n",
    "            b = text[i+1]\n",
    "        if a == b:\n",
    "            result += a + 'x'\n",
    "            i += 1\n",
    "        else:\n",
    "            if b:\n",
    "                result += a + b\n",
    "                i += 2\n",
    "            else:\n",
    "                result += a + 'x'\n",
    "                i += 1\n",
    "    return result\n",
    "\n",
    "def clean_decrypted_text(text):\n",
    "    # Remove 'x' inserted between repeated letters\n",
    "    result = ''\n",
    "    i = 0\n",
    "    while i < len(text):\n",
    "        if i+2 < len(text) and text[i] == text[i+2] and text[i+1] == 'x':\n",
    "            result += text[i]\n",
    "            i += 2\n",
    "        else:\n",
    "            result += text[i]\n",
    "            i += 1\n",
    "    return result\n",
    "\n",
    "# ---------------- Encryption ----------------\n",
    "def playfair_encrypt():\n",
    "    plaintext = input(\"Enter plaintext: \").lower()\n",
    "    key = input(\"Enter key: \").lower()\n",
    "    \n",
    "    matrix = generate_playfair_matrix(key)\n",
    "    text = process_text(plaintext)\n",
    "    pad_len = (2 - len(text) % 2) % 2  # padding to make length even if needed\n",
    "    \n",
    "    ciphertext = ''\n",
    "    for i in range(0, len(text), 2):\n",
    "        a, b = text[i], text[i+1]\n",
    "        r1, c1 = find_position(matrix, a)\n",
    "        r2, c2 = find_position(matrix, b)\n",
    "        if r1 == r2:\n",
    "            ciphertext += matrix[r1][(c1+1)%5] + matrix[r2][(c2+1)%5]\n",
    "        elif c1 == c2:\n",
    "            ciphertext += matrix[(r1+1)%5][c1] + matrix[(r2+1)%5][c2]\n",
    "        else:\n",
    "            ciphertext += matrix[r1][c2] + matrix[r2][c1]\n",
    "    \n",
    "    return plaintext, ciphertext, pad_len, matrix\n",
    "\n",
    "# ---------------- Decryption ----------------\n",
    "def playfair_decrypt(pad_len, matrix):\n",
    "    ciphertext = input(\"Enter ciphertext: \").lower()\n",
    "    plaintext = ''\n",
    "    \n",
    "    for i in range(0, len(ciphertext), 2):\n",
    "        a, b = ciphertext[i], ciphertext[i+1]\n",
    "        r1, c1 = find_position(matrix, a)\n",
    "        r2, c2 = find_position(matrix, b)\n",
    "        if r1 == r2:\n",
    "            plaintext += matrix[r1][(c1-1)%5] + matrix[r2][(c2-1)%5]\n",
    "        elif c1 == c2:\n",
    "            plaintext += matrix[(r1-1)%5][c1] + matrix[(r2-1)%5][c2]\n",
    "        else:\n",
    "            plaintext += matrix[r1][c2] + matrix[r2][c1]\n",
    "    \n",
    "    # Remove internal 'x's between repeated letters\n",
    "    plaintext = clean_decrypted_text(plaintext)\n",
    "    \n",
    "    # Remove padding 'x' at the end if any\n",
    "    if pad_len > 0:\n",
    "        plaintext = plaintext[:-pad_len]\n",
    "    \n",
    "    return ciphertext, plaintext\n",
    "\n",
    "# ---------------- Hill Cipher ----------------\n",
    "# encryption: c = p * k (mod 26), k is key square matrix\n",
    "def hill_cipher_encrypt():\n",
    "    p = input('Enter the plaintext: ').lower() # plaintext\n",
    "    k_len = int(input('Enter the order of the key matrix (order of [3, 5] is preferred): '))\n",
    "    k = []\n",
    "\n",
    "    for i in range(k_len):\n",
    "        temp = list(map(int, input().split()))\n",
    "        k.append(temp)\n",
    "\n",
    "    k = np.array(k)\n",
    "    k_det = int(round(np.linalg.det(k)) % 26)\n",
    "\n",
    "    if(euclidean_algo(k_det,  26) != 1):\n",
    "        print('Enter valid key matrix. The determinant of matrix must be co-prime with 26')\n",
    "        return\n",
    "\n",
    "    p_len = len(p)\n",
    "    \n",
    "    p_wo_space = p.replace(' ', '')\n",
    "    p_wo_space_len = len(p_wo_space)\n",
    "\n",
    "    # padding 'x' if length of the plaintext is not the multiple of the order of the key matrix\n",
    "    pad_len = (k_len - (p_wo_space_len % k_len)) % k_len\n",
    "    p_wo_space += 'x' * pad_len\n",
    "    p_wo_space_len = len(p_wo_space)\n",
    "    \n",
    "    ans, c = [], ''\n",
    "    for i in range(0, p_wo_space_len, k_len):\n",
    "        item_temp = list(p_wo_space[i:i+k_len]) # taking strings of length k_len at a time\n",
    "        item_temp = np.array([ord(item) - ord('a') for item in item_temp]).reshape(-1, 1) # converting it to numpy array so that req. methods can be used\n",
    "        ans_temp = (np.dot(k, item_temp) % 26).reshape(-1)\n",
    "\n",
    "        # converting the ascii code to the character and also spaces accordingly\n",
    "        for item in ans_temp:\n",
    "            c += chr(ord('a') + int(item))\n",
    "            \n",
    "    return p, c, pad_len\n",
    "\n",
    "# P = K−1 * C (mod 26)\n",
    "# K−1 = (det K)−1 * adj(K) (mod 26)\n",
    "def hill_cipher_decrypt(pad_len):\n",
    "    c = input('Enter the ciphertext: ').lower() # ciphertext\n",
    "    k_len = int(input('Enter the order of the key matrix (order of [3, 5] is preferred): '))\n",
    "    k = []\n",
    "\n",
    "    for i in range(k_len):\n",
    "        temp = list(map(int, input().split()))\n",
    "        k.append(temp)\n",
    "\n",
    "    k = sp.Matrix(k)\n",
    "    \n",
    "    k_adj = k.adjugate() # finding the adjugate of k\n",
    "    k_det_inverse = multiplicative_inverse(int(k.det()) % 26, 26) # finding the inverse of determinant of k\n",
    "    \n",
    "    k_inverse = np.array((k_det_inverse * k_adj) % 26).astype(np.int32)\n",
    "\n",
    "    p = ''\n",
    "    c_len = len(c)\n",
    "\n",
    "    for i in range(0, c_len, k_len):\n",
    "        block = list(c[i:i+k_len:])\n",
    "        block = np.array([ord(item) - ord('a') for item in block]).reshape(-1, 1)\n",
    "        ans_block = (np.mod(np.dot(k_inverse, block), 26)).reshape(-1)\n",
    "\n",
    "        for item in ans_block:\n",
    "            p += chr(ord('a') + int(item))\n",
    "\n",
    "    if(pad_len > 0):\n",
    "        p = p[:-pad_len:]\n",
    "    \n",
    "    return c, p"
   ]
  },
  {
   "cell_type": "code",
   "execution_count": 3,
   "id": "026c3cc2-1348-4398-b21e-0dcb86a7dc68",
   "metadata": {
    "scrolled": true
   },
   "outputs": [
    {
     "name": "stdout",
     "output_type": "stream",
     "text": [
      "-----GCD by Euclidean Algorithm-----\n",
      "gcd(2, 3) = 1\n",
      "-----GCD by extended Euclidean Algorithm------\n",
      "gcd(2, 3) = 1 and x = -1, y = 1\n",
      "-----Modulo Inverse-----\n",
      "Inverse of 7 = 15\n",
      "----- Additive Cipher -----\n"
     ]
    },
    {
     "name": "stdin",
     "output_type": "stream",
     "text": [
      "Enter plaintext:  hello\n",
      "Enter key (integer):  3\n"
     ]
    },
    {
     "name": "stdout",
     "output_type": "stream",
     "text": [
      "Plaintext -> hello \t Ciphertext -> khoor\n"
     ]
    },
    {
     "name": "stdin",
     "output_type": "stream",
     "text": [
      "Enter ciphertext:  khoor\n"
     ]
    },
    {
     "name": "stdout",
     "output_type": "stream",
     "text": [
      "Ciphertext -> khoor \t Plaintext -> hello\n",
      "\n",
      "----- Multiplicative Cipher -----\n"
     ]
    },
    {
     "name": "stdin",
     "output_type": "stream",
     "text": [
      "Enter plaintext:  hello\n",
      "Enter key (integer coprime with 26):  3\n"
     ]
    },
    {
     "name": "stdout",
     "output_type": "stream",
     "text": [
      "Plaintext -> hello \t Ciphertext -> vmhhq\n"
     ]
    },
    {
     "name": "stdin",
     "output_type": "stream",
     "text": [
      "Enter ciphertext:  vmhhq\n"
     ]
    },
    {
     "name": "stdout",
     "output_type": "stream",
     "text": [
      "Ciphertext -> vmhhq \t Plaintext -> hello\n",
      "\n",
      "----- Affine Cipher -----\n"
     ]
    },
    {
     "name": "stdin",
     "output_type": "stream",
     "text": [
      "Enter plaintext:  hello world\n",
      "Enter multiplicative key a (coprime with 26):  5\n",
      "Enter additive key b:  8\n"
     ]
    },
    {
     "name": "stdout",
     "output_type": "stream",
     "text": [
      "Plaintext -> helloworld \t Ciphertext -> rcllaoaplx\n"
     ]
    },
    {
     "name": "stdin",
     "output_type": "stream",
     "text": [
      "Enter ciphertext:  rcllaoaplx\n"
     ]
    },
    {
     "name": "stdout",
     "output_type": "stream",
     "text": [
      "Ciphertext -> rcllaoaplx \t Plaintext -> helloworld\n",
      "\n",
      "----- Playfair Cipher -----\n"
     ]
    },
    {
     "name": "stdin",
     "output_type": "stream",
     "text": [
      "Enter plaintext:  hello world\n",
      "Enter key:  keyword\n"
     ]
    },
    {
     "name": "stdout",
     "output_type": "stream",
     "text": [
      "Plaintext -> hello world \t Ciphertext -> gyizscokcfbu\n"
     ]
    },
    {
     "name": "stdin",
     "output_type": "stream",
     "text": [
      "Enter ciphertext:  gyizscokcfbu\n"
     ]
    },
    {
     "name": "stdout",
     "output_type": "stream",
     "text": [
      "Ciphertext -> gyizscokcfbu \t Plaintext -> helloworldx\n",
      "\n",
      "----- Hill Cipher -----\n"
     ]
    },
    {
     "name": "stdin",
     "output_type": "stream",
     "text": [
      "Enter the plaintext:  pay more money\n",
      "Enter the order of the key matrix (order of [3, 5] is preferred):  3\n",
      " 17 17 5\n",
      " 21 18 21\n",
      " 2 2 19\n"
     ]
    },
    {
     "name": "stdout",
     "output_type": "stream",
     "text": [
      "Plaintext -> pay more money \t Ciphertext -> lnshdlewmtrw\n"
     ]
    },
    {
     "name": "stdin",
     "output_type": "stream",
     "text": [
      "Enter the ciphertext:  lnshdlewmtrw\n",
      "Enter the order of the key matrix (order of [3, 5] is preferred):  3\n",
      " 17 17 5\n",
      " 21 18 21\n",
      " 2 2 19\n"
     ]
    },
    {
     "name": "stdout",
     "output_type": "stream",
     "text": [
      "Ciphertext -> lnshdlewmtrw \t Plaintext -> paymoremoney\n"
     ]
    }
   ],
   "source": [
    "# ---------------- Main Section ----------------\n",
    "def main():\n",
    "    print('-----GCD by Euclidean Algorithm-----')\n",
    "    ans = euclidean_algo(2, 3)\n",
    "    print('gcd({}, {}) = {}'.format(2, 3, ans))\n",
    "\n",
    "    print('-----GCD by extended Euclidean Algorithm------')\n",
    "    ans = extended_gcd(2, 3)\n",
    "    print('gcd({}, {}) = {} and x = {}, y = {}'.format(2, 3, ans[0], ans[1], ans[2]))\n",
    "\n",
    "    print('-----Modulo Inverse-----')\n",
    "    ans = multiplicative_inverse(7, 26)\n",
    "    print('Inverse of 7 = {}'.format(ans))\n",
    "    \n",
    "    print(\"----- Additive Cipher -----\")\n",
    "    plaintext, ciphertext, key = additive_encrypt()\n",
    "    print(f\"Plaintext -> {plaintext} \\t Ciphertext -> {ciphertext}\")\n",
    "    c_text, p_text = additive_decrypt(key)\n",
    "    print(f\"Ciphertext -> {c_text} \\t Plaintext -> {p_text}\\n\")\n",
    "\n",
    "    print(\"----- Multiplicative Cipher -----\")\n",
    "    plaintext, ciphertext, key = multiplicative_encrypt()\n",
    "    print(f\"Plaintext -> {plaintext} \\t Ciphertext -> {ciphertext}\")\n",
    "    c_text, p_text = multiplicative_decrypt(key)\n",
    "    print(f\"Ciphertext -> {c_text} \\t Plaintext -> {p_text}\\n\")\n",
    "\n",
    "    print(\"----- Affine Cipher -----\")\n",
    "    plaintext, ciphertext, a, b = affine_encrypt()\n",
    "    print(f\"Plaintext -> {plaintext} \\t Ciphertext -> {ciphertext}\")\n",
    "    c_text, p_text = affine_decrypt(a, b)\n",
    "    print(f\"Ciphertext -> {c_text} \\t Plaintext -> {p_text}\\n\")\n",
    "\n",
    "    print(\"----- Playfair Cipher -----\")\n",
    "    plaintext, ciphertext, pad_len, matrix = playfair_encrypt()\n",
    "    print(f\"Plaintext -> {plaintext} \\t Ciphertext -> {ciphertext}\")\n",
    "    c_text, p_text = playfair_decrypt(pad_len, matrix)\n",
    "    print(f\"Ciphertext -> {c_text} \\t Plaintext -> {p_text}\\n\")\n",
    "\n",
    "    print(\"----- Hill Cipher -----\")\n",
    "    encrypt_code = hill_cipher_encrypt()\n",
    "    print('Plaintext -> {} \\t Ciphertext -> {}'. format(encrypt_code[0], encrypt_code[1]))\n",
    "    if(encrypt_code[2] != None):\n",
    "        decrypt_code = hill_cipher_decrypt(encrypt_code[2])\n",
    "    print('Ciphertext -> {} \\t Plaintext -> {}'. format(decrypt_code[0], decrypt_code[1]))\n",
    "\n",
    "# Run the main section\n",
    "if __name__ == \"__main__\":\n",
    "    main()\n"
   ]
  },
  {
   "cell_type": "code",
   "execution_count": null,
   "id": "de32c290-7943-4fe6-a74f-154327466804",
   "metadata": {},
   "outputs": [],
   "source": []
  }
 ],
 "metadata": {
  "kernelspec": {
   "display_name": "Python 3 (ipykernel)",
   "language": "python",
   "name": "python3"
  },
  "language_info": {
   "codemirror_mode": {
    "name": "ipython",
    "version": 3
   },
   "file_extension": ".py",
   "mimetype": "text/x-python",
   "name": "python",
   "nbconvert_exporter": "python",
   "pygments_lexer": "ipython3",
   "version": "3.13.5"
  }
 },
 "nbformat": 4,
 "nbformat_minor": 5
}
